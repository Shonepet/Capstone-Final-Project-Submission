{
 "cells": [
  {
   "cell_type": "code",
   "execution_count": 2,
   "id": "d7acecae-2c82-4a17-b7c0-d787657d0e27",
   "metadata": {},
   "outputs": [
    {
     "name": "stdout",
     "output_type": "stream",
     "text": [
      "Current Directory: C:\\Users\\HP\\Desktop\\Nexford University\\Business Analytics Capstone\\Module 4 Assignment\n"
     ]
    }
   ],
   "source": [
    "# Import necessary libraries\n",
    "import pandas as pd\n",
    "import numpy as np\n",
    "import os\n",
    "import time\n",
    "import matplotlib.pyplot as plt\n",
    "import seaborn as sns\n",
    "\n",
    "from sklearn.model_selection import train_test_split\n",
    "from sklearn.linear_model import LogisticRegression\n",
    "from sklearn.metrics import classification_report, confusion_matrix, roc_auc_score\n",
    "from imblearn.over_sampling import SMOTE\n",
    "\n",
    "print(\"Current Directory:\", os.getcwd())\n"
   ]
  },
  {
   "cell_type": "code",
   "execution_count": 3,
   "id": "294c1d10-d4d3-4132-8f31-9ccfb93f08fe",
   "metadata": {},
   "outputs": [
    {
     "name": "stdout",
     "output_type": "stream",
     "text": [
      "Dataset Shape: (6362620, 15)\n",
      "   step    amount     nameorig  oldbalanceorg  newbalanceorig     namedest  \\\n",
      "0     1   9839.64  C1231006815       170136.0       160296.36  M1979787155   \n",
      "1     1   1864.28  C1666544295        21249.0        19384.72  M2044282225   \n",
      "2     1    181.00  C1305486145          181.0            0.00   C553264065   \n",
      "3     1    181.00   C840083671          181.0            0.00    C38997010   \n",
      "4     1  11668.14  C2048537720        41554.0        29885.86  M1230701703   \n",
      "\n",
      "   oldbalancedest  newbalancedest  isfraud  isflaggedfraud  type_encoded  \\\n",
      "0             0.0             0.0        0               0             3   \n",
      "1             0.0             0.0        0               0             3   \n",
      "2             0.0             0.0        1               0             4   \n",
      "3         21182.0             0.0        1               0             1   \n",
      "4             0.0             0.0        0               0             3   \n",
      "\n",
      "   error_balance_orig  error_balance_dest  orig_error_flag  dest_error_flag  \n",
      "0                 0.0             9839.64                0                1  \n",
      "1                 0.0             1864.28                0                1  \n",
      "2                 0.0              181.00                0                1  \n",
      "3                 0.0            21363.00                0                1  \n",
      "4                 0.0            11668.14                0                1  \n"
     ]
    }
   ],
   "source": [
    "# Step 2- Load dataset\n",
    "df = pd.read_csv(\"Finalised_Dataset_paysim_cleaned.csv\")\n",
    "print(\"Dataset Shape:\", df.shape)\n",
    "print(df.head())\n"
   ]
  },
  {
   "cell_type": "code",
   "execution_count": 4,
   "id": "3441351b-8c18-4cce-82cc-1f0eb7c8f17f",
   "metadata": {},
   "outputs": [
    {
     "name": "stdout",
     "output_type": "stream",
     "text": [
      "Step 3: Features and target defined\n",
      "Any NaNs in X? 0\n"
     ]
    }
   ],
   "source": [
    "# Step 3 Define Features and Target\n",
    "\n",
    "X = df.drop(['isfraud', 'nameorig', 'namedest'], axis=1)\n",
    "y = df['isfraud']\n",
    "print(\"Step 3: Features and target defined\")\n",
    "print(\"Any NaNs in X?\", X.isnull().sum().sum())\n"
   ]
  },
  {
   "cell_type": "code",
   "execution_count": 5,
   "id": "1e3f2ddc-708c-40e9-b978-b3abf0709ba5",
   "metadata": {},
   "outputs": [
    {
     "name": "stdout",
     "output_type": "stream",
     "text": [
      "Original class distribution: isfraud\n",
      "0    6354407\n",
      "1       8213\n",
      "Name: count, dtype: int64\n",
      "Resampled class distribution: isfraud\n",
      "0    6354407\n",
      "1    6354407\n",
      "Name: count, dtype: int64\n"
     ]
    }
   ],
   "source": [
    "# Step 4 SMOTE\n",
    "print(\"Original class distribution:\", y.value_counts())\n",
    "sm = SMOTE(random_state=42)\n",
    "X_resampled, y_resampled = sm.fit_resample(X, y)\n",
    "print(\"Resampled class distribution:\", y_resampled.value_counts())\n"
   ]
  },
  {
   "cell_type": "code",
   "execution_count": 7,
   "id": "fd76df52-5c65-4ea6-baa6-4ffd9f0487e7",
   "metadata": {},
   "outputs": [
    {
     "name": "stdout",
     "output_type": "stream",
     "text": [
      "Data split\n"
     ]
    }
   ],
   "source": [
    "# Step 5 Train-Test Split\n",
    "X_train, X_test, y_train, y_test = train_test_split(X_resampled, y_resampled, test_size=0.2, random_state=42)\n",
    "print(\"Data split\")\n"
   ]
  },
  {
   "cell_type": "code",
   "execution_count": 8,
   "id": "b830a57c-3c5a-4865-88b0-01df24aec943",
   "metadata": {},
   "outputs": [
    {
     "name": "stdout",
     "output_type": "stream",
     "text": [
      "=== Logistic Regression ===\n",
      "              precision    recall  f1-score   support\n",
      "\n",
      "           0       0.95      0.97      0.96   1270837\n",
      "           1       0.97      0.95      0.96   1270926\n",
      "\n",
      "    accuracy                           0.96   2541763\n",
      "   macro avg       0.96      0.96      0.96   2541763\n",
      "weighted avg       0.96      0.96      0.96   2541763\n",
      "\n",
      "ROC AUC: 0.991931304340943\n",
      "\n",
      "=== XGBoost ===\n",
      "              precision    recall  f1-score   support\n",
      "\n",
      "           0       1.00      1.00      1.00   1270837\n",
      "           1       1.00      1.00      1.00   1270926\n",
      "\n",
      "    accuracy                           1.00   2541763\n",
      "   macro avg       1.00      1.00      1.00   2541763\n",
      "weighted avg       1.00      1.00      1.00   2541763\n",
      "\n",
      "ROC AUC: 0.9999991162755614\n"
     ]
    }
   ],
   "source": [
    "# Step 6 Train Model\n",
    "\n",
    "# Train Logistic Regression\n",
    "log_model = LogisticRegression(max_iter=1000, solver='lbfgs', random_state=42)\n",
    "log_model.fit(X_train, y_train)\n",
    "\n",
    "# Train XGBoost\n",
    "from xgboost import XGBClassifier\n",
    "xgb_model = XGBClassifier(eval_metric='logloss', random_state=42)\n",
    "xgb_model.fit(X_train, y_train)\n",
    "\n",
    "# Predictions\n",
    "log_pred = log_model.predict(X_test)\n",
    "log_proba = log_model.predict_proba(X_test)[:, 1]\n",
    "\n",
    "xgb_pred = xgb_model.predict(X_test)\n",
    "xgb_proba = xgb_model.predict_proba(X_test)[:, 1]\n",
    "\n",
    "# Evaluation\n",
    "print(\"=== Logistic Regression ===\")\n",
    "print(classification_report(y_test, log_pred))\n",
    "print(\"ROC AUC:\", roc_auc_score(y_test, log_proba))\n",
    "\n",
    "print(\"\\n=== XGBoost ===\")\n",
    "print(classification_report(y_test, xgb_pred))\n",
    "print(\"ROC AUC:\", roc_auc_score(y_test, xgb_proba))\n"
   ]
  },
  {
   "cell_type": "code",
   "execution_count": 1,
   "id": "dcace0fb-e087-4d0f-83b8-7947837b8974",
   "metadata": {},
   "outputs": [
    {
     "ename": "NameError",
     "evalue": "name 'model' is not defined",
     "output_type": "error",
     "traceback": [
      "\u001b[1;31m---------------------------------------------------------------------------\u001b[0m",
      "\u001b[1;31mNameError\u001b[0m                                 Traceback (most recent call last)",
      "Cell \u001b[1;32mIn[1], line 2\u001b[0m\n\u001b[0;32m      1\u001b[0m \u001b[38;5;66;03m# Step 7 Evaluate\u001b[39;00m\n\u001b[1;32m----> 2\u001b[0m y_pred \u001b[38;5;241m=\u001b[39m \u001b[43mmodel\u001b[49m\u001b[38;5;241m.\u001b[39mpredict(X_test)\n\u001b[0;32m      3\u001b[0m \u001b[38;5;28mprint\u001b[39m(\u001b[38;5;124m\"\u001b[39m\u001b[38;5;124mClassification Report:\u001b[39m\u001b[38;5;130;01m\\n\u001b[39;00m\u001b[38;5;124m\"\u001b[39m, classification_report(y_test, y_pred))\n\u001b[0;32m      4\u001b[0m y_proba \u001b[38;5;241m=\u001b[39m model\u001b[38;5;241m.\u001b[39mpredict_proba(X_test)[:, \u001b[38;5;241m1\u001b[39m]\n",
      "\u001b[1;31mNameError\u001b[0m: name 'model' is not defined"
     ]
    }
   ],
   "source": [
    "# Step 7 Evaluate\n",
    "y_pred = model.predict(X_test)\n",
    "print(\"Classification Report:\\n\", classification_report(y_test, y_pred))\n",
    "y_proba = model.predict_proba(X_test)[:, 1]\n",
    "print(\"ROC AUC Score:\", roc_auc_score(y_test, y_proba))\n",
    "\n",
    "# Confusion Matrix\n",
    "sns.heatmap(confusion_matrix(y_test, y_pred), annot=True, fmt='d', cmap='Blues')\n",
    "plt.title(\"Confusion Matrix\")\n",
    "plt.xlabel(\"Predicted\")\n",
    "plt.ylabel(\"Actual\")\n",
    "plt.show()\n"
   ]
  },
  {
   "cell_type": "code",
   "execution_count": null,
   "id": "d7e217ef-c46f-4af3-9ed9-0198941c9934",
   "metadata": {},
   "outputs": [],
   "source": [
    "# Note:\n",
    "# All necessary libraries were imported, and I have to print current directory just to test/see my dataset location.\n",
    "# The cleaned data from milestone 1 assignment was loaded into my notebook, ready for modelling\n",
    "# Next, I defined the features.\n",
    "# The dataset was highly imbalanced, so I used SMOTE to balance the class\n",
    "# See the README file for more details."
   ]
  },
  {
   "cell_type": "code",
   "execution_count": 9,
   "id": "8f834a9e-ada8-4135-86ca-bbfb5981cfda",
   "metadata": {},
   "outputs": [
    {
     "data": {
      "text/plain": [
       "['model.pkl']"
      ]
     },
     "execution_count": 9,
     "metadata": {},
     "output_type": "execute_result"
    }
   ],
   "source": [
    "import joblib\n",
    "\n",
    "# Using xgb_model as my trained model\n",
    "joblib.dump(xgb_model, 'model.pkl')"
   ]
  },
  {
   "cell_type": "code",
   "execution_count": null,
   "id": "9754551c-b927-4fb6-83c3-627b99fe8340",
   "metadata": {},
   "outputs": [],
   "source": []
  }
 ],
 "metadata": {
  "kernelspec": {
   "display_name": "Python 3 (ipykernel)",
   "language": "python",
   "name": "python3"
  },
  "language_info": {
   "codemirror_mode": {
    "name": "ipython",
    "version": 3
   },
   "file_extension": ".py",
   "mimetype": "text/x-python",
   "name": "python",
   "nbconvert_exporter": "python",
   "pygments_lexer": "ipython3",
   "version": "3.12.7"
  }
 },
 "nbformat": 4,
 "nbformat_minor": 5
}
